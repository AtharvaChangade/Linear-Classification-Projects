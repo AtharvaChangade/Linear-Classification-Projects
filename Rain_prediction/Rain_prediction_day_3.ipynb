{
 "cells": [
  {
   "cell_type": "markdown",
   "metadata": {
    "id": "zRRFQLtJvyyz"
   },
   "source": [
    "#### Import the required libraries"
   ]
  },
  {
   "cell_type": "code",
   "execution_count": 1,
   "metadata": {
    "id": "zy-jK3_wvyy0"
   },
   "outputs": [],
   "source": [
    "import numpy as np\n",
    "import pandas as pd\n",
    "import seaborn as sns\n",
    "import matplotlib.pyplot as plt\n",
    "\n",
    "from sklearn.naive_bayes import GaussianNB, MultinomialNB, BernoulliNB\n",
    "from sklearn.neighbors import KNeighborsClassifier\n",
    "\n",
    "from sklearn.metrics import roc_auc_score,accuracy_score,classification_report,roc_curve,confusion_matrix,log_loss,cohen_kappa_score\n",
    "from sklearn.model_selection import train_test_split, GridSearchCV, cross_val_score"
   ]
  },
  {
   "cell_type": "markdown",
   "metadata": {
    "id": "sjUGeQA_vyy1"
   },
   "source": [
    "#### Read the data\n",
    "\n",
    "Load the csv file and print the first five observations."
   ]
  },
  {
   "cell_type": "code",
   "execution_count": 2,
   "metadata": {
    "id": "ZT-qi5jAvyy2"
   },
   "outputs": [
    {
     "data": {
      "text/html": [
       "<div>\n",
       "<style scoped>\n",
       "    .dataframe tbody tr th:only-of-type {\n",
       "        vertical-align: middle;\n",
       "    }\n",
       "\n",
       "    .dataframe tbody tr th {\n",
       "        vertical-align: top;\n",
       "    }\n",
       "\n",
       "    .dataframe thead th {\n",
       "        text-align: right;\n",
       "    }\n",
       "</style>\n",
       "<table border=\"1\" class=\"dataframe\">\n",
       "  <thead>\n",
       "    <tr style=\"text-align: right;\">\n",
       "      <th></th>\n",
       "      <th>Obs_Id</th>\n",
       "      <th>Rainfall</th>\n",
       "      <th>Evaporation</th>\n",
       "      <th>Sunshine</th>\n",
       "      <th>Temp</th>\n",
       "      <th>Wind_Speed</th>\n",
       "      <th>Humidity</th>\n",
       "      <th>Pressure</th>\n",
       "      <th>RainTomorrow</th>\n",
       "    </tr>\n",
       "  </thead>\n",
       "  <tbody>\n",
       "    <tr>\n",
       "      <th>0</th>\n",
       "      <td>1</td>\n",
       "      <td>3.6</td>\n",
       "      <td>1.0</td>\n",
       "      <td>3.0</td>\n",
       "      <td>14.225</td>\n",
       "      <td>12.333333</td>\n",
       "      <td>82.0</td>\n",
       "      <td>1028.10</td>\n",
       "      <td>0</td>\n",
       "    </tr>\n",
       "    <tr>\n",
       "      <th>1</th>\n",
       "      <td>2</td>\n",
       "      <td>0.0</td>\n",
       "      <td>7.2</td>\n",
       "      <td>4.9</td>\n",
       "      <td>23.075</td>\n",
       "      <td>44.333333</td>\n",
       "      <td>69.5</td>\n",
       "      <td>1015.65</td>\n",
       "      <td>1</td>\n",
       "    </tr>\n",
       "    <tr>\n",
       "      <th>2</th>\n",
       "      <td>3</td>\n",
       "      <td>0.0</td>\n",
       "      <td>0.6</td>\n",
       "      <td>1.5</td>\n",
       "      <td>10.175</td>\n",
       "      <td>16.666667</td>\n",
       "      <td>87.0</td>\n",
       "      <td>1026.45</td>\n",
       "      <td>0</td>\n",
       "    </tr>\n",
       "    <tr>\n",
       "      <th>3</th>\n",
       "      <td>4</td>\n",
       "      <td>0.8</td>\n",
       "      <td>2.4</td>\n",
       "      <td>0.5</td>\n",
       "      <td>19.000</td>\n",
       "      <td>42.666667</td>\n",
       "      <td>89.0</td>\n",
       "      <td>1010.05</td>\n",
       "      <td>1</td>\n",
       "    </tr>\n",
       "    <tr>\n",
       "      <th>4</th>\n",
       "      <td>5</td>\n",
       "      <td>40.4</td>\n",
       "      <td>3.0</td>\n",
       "      <td>3.6</td>\n",
       "      <td>18.725</td>\n",
       "      <td>35.333333</td>\n",
       "      <td>81.5</td>\n",
       "      <td>1005.60</td>\n",
       "      <td>0</td>\n",
       "    </tr>\n",
       "  </tbody>\n",
       "</table>\n",
       "</div>"
      ],
      "text/plain": [
       "   Obs_Id  Rainfall  Evaporation  Sunshine    Temp  Wind_Speed  Humidity  \\\n",
       "0       1       3.6          1.0       3.0  14.225   12.333333      82.0   \n",
       "1       2       0.0          7.2       4.9  23.075   44.333333      69.5   \n",
       "2       3       0.0          0.6       1.5  10.175   16.666667      87.0   \n",
       "3       4       0.8          2.4       0.5  19.000   42.666667      89.0   \n",
       "4       5      40.4          3.0       3.6  18.725   35.333333      81.5   \n",
       "\n",
       "   Pressure  RainTomorrow  \n",
       "0   1028.10             0  \n",
       "1   1015.65             1  \n",
       "2   1026.45             0  \n",
       "3   1010.05             1  \n",
       "4   1005.60             0  "
      ]
     },
     "execution_count": 2,
     "metadata": {},
     "output_type": "execute_result"
    }
   ],
   "source": [
    "df =pd.read_csv('rainfall_prediction.csv')\n",
    "df.head()"
   ]
  },
  {
   "cell_type": "markdown",
   "metadata": {
    "id": "JFSxf4qfvyy2"
   },
   "source": [
    "**The data definition is as follows:** <br>\n",
    "\n",
    "**Obs_Id:** Observation Id\n",
    "\n",
    "**Rainfall:** Rainfall recorded in a day (in mm) \n",
    "\n",
    "**Evaporation:** Number of field goals made \n",
    "\n",
    "**Sunshine:** Number of hours of bright sunshine per day\n",
    "\n",
    "**Temp:** Temperature in degree C\n",
    "\n",
    "**Wind_Speed:** Average speed of the wind in km/hour\n",
    "\n",
    "**Humidity:** Humidity in percentage (%)\n",
    "\n",
    "**Pressure:** Atmospheric pressure in hpa (hecto Pascals)\n",
    "\n",
    "**Rain Tomorrow:** Whether it will rain or not(0 = No, it won't rain tomorrow, 1 = Yes, it will rain tomorrow) (target/dependent variable)"
   ]
  },
  {
   "cell_type": "code",
   "execution_count": 3,
   "metadata": {},
   "outputs": [
    {
     "data": {
      "text/plain": [
       "(1520, 9)"
      ]
     },
     "execution_count": 3,
     "metadata": {},
     "output_type": "execute_result"
    }
   ],
   "source": [
    "df.shape"
   ]
  },
  {
   "cell_type": "code",
   "execution_count": 4,
   "metadata": {},
   "outputs": [
    {
     "data": {
      "text/plain": [
       "Obs_Id          0\n",
       "Rainfall        0\n",
       "Evaporation     0\n",
       "Sunshine        0\n",
       "Temp            0\n",
       "Wind_Speed      0\n",
       "Humidity        0\n",
       "Pressure        0\n",
       "RainTomorrow    0\n",
       "dtype: int64"
      ]
     },
     "execution_count": 4,
     "metadata": {},
     "output_type": "execute_result"
    }
   ],
   "source": [
    "df.isnull().sum()"
   ]
  },
  {
   "cell_type": "code",
   "execution_count": 5,
   "metadata": {},
   "outputs": [
    {
     "data": {
      "text/plain": [
       "Obs_Id            int64\n",
       "Rainfall        float64\n",
       "Evaporation     float64\n",
       "Sunshine        float64\n",
       "Temp            float64\n",
       "Wind_Speed      float64\n",
       "Humidity        float64\n",
       "Pressure        float64\n",
       "RainTomorrow      int64\n",
       "dtype: object"
      ]
     },
     "execution_count": 5,
     "metadata": {},
     "output_type": "execute_result"
    }
   ],
   "source": [
    "df.dtypes"
   ]
  },
  {
   "cell_type": "markdown",
   "metadata": {
    "id": "yFHG2lc1vyy3"
   },
   "source": [
    "Our objective is to predict whether it will rain tomorrow or not."
   ]
  },
  {
   "cell_type": "markdown",
   "metadata": {
    "id": "Z_tEXED5vyy3"
   },
   "source": [
    "### Let's begin with some hands-on practice exercises"
   ]
  },
  {
   "cell_type": "markdown",
   "metadata": {
    "id": "euDhfu3Ivyy3"
   },
   "source": [
    "<table align=\"left\">\n",
    "    <tr>\n",
    "        <td width=\"6%\">\n",
    "            <img src=\"question_icon.png\">\n",
    "        </td>\n",
    "        <td>\n",
    "            <div align=\"left\", style=\"font-size:120%\">\n",
    "                <font color=\"#21618C\">\n",
    "                    <b>1. Identify and remove the variables in the data which are insignificant for the classification analysis</b>\n",
    "                </font>\n",
    "            </div>\n",
    "        </td>\n",
    "    </tr>\n",
    "</table>"
   ]
  },
  {
   "cell_type": "code",
   "execution_count": 6,
   "metadata": {
    "id": "QUGZnHTivyy4",
    "scrolled": false
   },
   "outputs": [
    {
     "data": {
      "text/html": [
       "<div>\n",
       "<style scoped>\n",
       "    .dataframe tbody tr th:only-of-type {\n",
       "        vertical-align: middle;\n",
       "    }\n",
       "\n",
       "    .dataframe tbody tr th {\n",
       "        vertical-align: top;\n",
       "    }\n",
       "\n",
       "    .dataframe thead th {\n",
       "        text-align: right;\n",
       "    }\n",
       "</style>\n",
       "<table border=\"1\" class=\"dataframe\">\n",
       "  <thead>\n",
       "    <tr style=\"text-align: right;\">\n",
       "      <th></th>\n",
       "      <th>Obs_Id</th>\n",
       "      <th>Rainfall</th>\n",
       "      <th>Evaporation</th>\n",
       "      <th>Sunshine</th>\n",
       "      <th>Temp</th>\n",
       "      <th>Wind_Speed</th>\n",
       "      <th>Humidity</th>\n",
       "      <th>Pressure</th>\n",
       "      <th>RainTomorrow</th>\n",
       "    </tr>\n",
       "  </thead>\n",
       "  <tbody>\n",
       "    <tr>\n",
       "      <th>count</th>\n",
       "      <td>1520.000000</td>\n",
       "      <td>1520.000000</td>\n",
       "      <td>1520.000000</td>\n",
       "      <td>1520.000000</td>\n",
       "      <td>1520.000000</td>\n",
       "      <td>1520.000000</td>\n",
       "      <td>1520.000000</td>\n",
       "      <td>1520.000000</td>\n",
       "      <td>1520.000000</td>\n",
       "    </tr>\n",
       "    <tr>\n",
       "      <th>mean</th>\n",
       "      <td>760.500000</td>\n",
       "      <td>2.163553</td>\n",
       "      <td>5.530592</td>\n",
       "      <td>7.895789</td>\n",
       "      <td>19.592681</td>\n",
       "      <td>24.798026</td>\n",
       "      <td>57.432895</td>\n",
       "      <td>1016.246546</td>\n",
       "      <td>0.190789</td>\n",
       "    </tr>\n",
       "    <tr>\n",
       "      <th>std</th>\n",
       "      <td>438.930518</td>\n",
       "      <td>7.322329</td>\n",
       "      <td>3.639993</td>\n",
       "      <td>3.689090</td>\n",
       "      <td>6.380897</td>\n",
       "      <td>8.653705</td>\n",
       "      <td>17.939610</td>\n",
       "      <td>6.958099</td>\n",
       "      <td>0.393053</td>\n",
       "    </tr>\n",
       "    <tr>\n",
       "      <th>min</th>\n",
       "      <td>1.000000</td>\n",
       "      <td>0.000000</td>\n",
       "      <td>0.200000</td>\n",
       "      <td>0.000000</td>\n",
       "      <td>4.950000</td>\n",
       "      <td>5.666667</td>\n",
       "      <td>6.000000</td>\n",
       "      <td>979.750000</td>\n",
       "      <td>0.000000</td>\n",
       "    </tr>\n",
       "    <tr>\n",
       "      <th>25%</th>\n",
       "      <td>380.750000</td>\n",
       "      <td>0.000000</td>\n",
       "      <td>2.800000</td>\n",
       "      <td>5.400000</td>\n",
       "      <td>14.493750</td>\n",
       "      <td>18.666667</td>\n",
       "      <td>46.500000</td>\n",
       "      <td>1011.400000</td>\n",
       "      <td>0.000000</td>\n",
       "    </tr>\n",
       "    <tr>\n",
       "      <th>50%</th>\n",
       "      <td>760.500000</td>\n",
       "      <td>0.000000</td>\n",
       "      <td>5.000000</td>\n",
       "      <td>8.800000</td>\n",
       "      <td>19.312500</td>\n",
       "      <td>23.500000</td>\n",
       "      <td>59.000000</td>\n",
       "      <td>1016.050000</td>\n",
       "      <td>0.000000</td>\n",
       "    </tr>\n",
       "    <tr>\n",
       "      <th>75%</th>\n",
       "      <td>1140.250000</td>\n",
       "      <td>0.600000</td>\n",
       "      <td>7.400000</td>\n",
       "      <td>10.800000</td>\n",
       "      <td>24.825000</td>\n",
       "      <td>29.666667</td>\n",
       "      <td>70.000000</td>\n",
       "      <td>1020.800000</td>\n",
       "      <td>0.000000</td>\n",
       "    </tr>\n",
       "    <tr>\n",
       "      <th>max</th>\n",
       "      <td>1520.000000</td>\n",
       "      <td>109.600000</td>\n",
       "      <td>28.000000</td>\n",
       "      <td>14.000000</td>\n",
       "      <td>36.575000</td>\n",
       "      <td>64.333333</td>\n",
       "      <td>100.000000</td>\n",
       "      <td>1036.200000</td>\n",
       "      <td>1.000000</td>\n",
       "    </tr>\n",
       "  </tbody>\n",
       "</table>\n",
       "</div>"
      ],
      "text/plain": [
       "            Obs_Id     Rainfall  Evaporation     Sunshine         Temp  \\\n",
       "count  1520.000000  1520.000000  1520.000000  1520.000000  1520.000000   \n",
       "mean    760.500000     2.163553     5.530592     7.895789    19.592681   \n",
       "std     438.930518     7.322329     3.639993     3.689090     6.380897   \n",
       "min       1.000000     0.000000     0.200000     0.000000     4.950000   \n",
       "25%     380.750000     0.000000     2.800000     5.400000    14.493750   \n",
       "50%     760.500000     0.000000     5.000000     8.800000    19.312500   \n",
       "75%    1140.250000     0.600000     7.400000    10.800000    24.825000   \n",
       "max    1520.000000   109.600000    28.000000    14.000000    36.575000   \n",
       "\n",
       "        Wind_Speed     Humidity     Pressure  RainTomorrow  \n",
       "count  1520.000000  1520.000000  1520.000000   1520.000000  \n",
       "mean     24.798026    57.432895  1016.246546      0.190789  \n",
       "std       8.653705    17.939610     6.958099      0.393053  \n",
       "min       5.666667     6.000000   979.750000      0.000000  \n",
       "25%      18.666667    46.500000  1011.400000      0.000000  \n",
       "50%      23.500000    59.000000  1016.050000      0.000000  \n",
       "75%      29.666667    70.000000  1020.800000      0.000000  \n",
       "max      64.333333   100.000000  1036.200000      1.000000  "
      ]
     },
     "execution_count": 6,
     "metadata": {},
     "output_type": "execute_result"
    }
   ],
   "source": [
    "df.describe()"
   ]
  },
  {
   "cell_type": "markdown",
   "metadata": {},
   "source": [
    "- Dropping Obs_Id being just number of observations."
   ]
  },
  {
   "cell_type": "code",
   "execution_count": 7,
   "metadata": {},
   "outputs": [],
   "source": [
    "df.drop('Obs_Id',axis=1,inplace=True)"
   ]
  },
  {
   "cell_type": "code",
   "execution_count": 8,
   "metadata": {
    "scrolled": true
   },
   "outputs": [
    {
     "data": {
      "text/plain": [
       "<Axes: >"
      ]
     },
     "execution_count": 8,
     "metadata": {},
     "output_type": "execute_result"
    },
    {
     "data": {
      "image/png": "[encoded data removed]",
      "text/plain": [
       "<Figure size 640x480 with 2 Axes>"
      ]
     },
     "metadata": {},
     "output_type": "display_data"
    }
   ],
   "source": [
    "sns.heatmap(df.corr(),annot=True)"
   ]
  },
  {
   "cell_type": "markdown",
   "metadata": {},
   "source": [
    "- Temp also has very less Correlation -0.05 with rain so can be dropped. but will keep it at this stage."
   ]
  },
  {
   "cell_type": "markdown",
   "metadata": {
    "id": "b_1hMEWVvyy5"
   },
   "source": [
    "<table align=\"left\">\n",
    "    <tr>\n",
    "        <td width=\"6%\">\n",
    "            <img src=\"question_icon.png\">\n",
    "        </td>\n",
    "        <td>\n",
    "            <div align=\"left\", style=\"font-size:120%\">\n",
    "                <font color=\"#21618C\">\n",
    "                    <b>2. Is there any record that is recorded more than once? If yes, do the needful</b>\n",
    "                </font>\n",
    "            </div>\n",
    "        </td>\n",
    "    </tr>\n",
    "</table>"
   ]
  },
  {
   "cell_type": "code",
   "execution_count": 9,
   "metadata": {
    "id": "vH6w2IBIvyy5",
    "scrolled": true
   },
   "outputs": [
    {
     "data": {
      "text/plain": [
       "20"
      ]
     },
     "execution_count": 9,
     "metadata": {},
     "output_type": "execute_result"
    }
   ],
   "source": [
    "df.duplicated().sum()"
   ]
  },
  {
   "cell_type": "code",
   "execution_count": 10,
   "metadata": {},
   "outputs": [],
   "source": [
    "df.drop_duplicates(inplace=True,keep='first')"
   ]
  },
  {
   "cell_type": "code",
   "execution_count": 11,
   "metadata": {},
   "outputs": [
    {
     "data": {
      "text/plain": [
       "(1500, 8)"
      ]
     },
     "execution_count": 11,
     "metadata": {},
     "output_type": "execute_result"
    }
   ],
   "source": [
    "df.shape             # Note 20 records are dropped."
   ]
  },
  {
   "cell_type": "code",
   "execution_count": 32,
   "metadata": {},
   "outputs": [],
   "source": [
    "df.reset_index(drop=True,inplace=True)"
   ]
  },
  {
   "cell_type": "code",
   "execution_count": 35,
   "metadata": {},
   "outputs": [
    {
     "data": {
      "text/html": [
       "<div>\n",
       "<style scoped>\n",
       "    .dataframe tbody tr th:only-of-type {\n",
       "        vertical-align: middle;\n",
       "    }\n",
       "\n",
       "    .dataframe tbody tr th {\n",
       "        vertical-align: top;\n",
       "    }\n",
       "\n",
       "    .dataframe thead th {\n",
       "        text-align: right;\n",
       "    }\n",
       "</style>\n",
       "<table border=\"1\" class=\"dataframe\">\n",
       "  <thead>\n",
       "    <tr style=\"text-align: right;\">\n",
       "      <th></th>\n",
       "      <th>Rainfall</th>\n",
       "      <th>Evaporation</th>\n",
       "      <th>Sunshine</th>\n",
       "      <th>Temp</th>\n",
       "      <th>Wind_Speed</th>\n",
       "      <th>Humidity</th>\n",
       "      <th>Pressure</th>\n",
       "      <th>RainTomorrow</th>\n",
       "    </tr>\n",
       "  </thead>\n",
       "  <tbody>\n",
       "    <tr>\n",
       "      <th>0</th>\n",
       "      <td>3.6</td>\n",
       "      <td>1.0</td>\n",
       "      <td>3.0</td>\n",
       "      <td>14.225</td>\n",
       "      <td>12.333333</td>\n",
       "      <td>82.0</td>\n",
       "      <td>1028.10</td>\n",
       "      <td>0</td>\n",
       "    </tr>\n",
       "    <tr>\n",
       "      <th>1</th>\n",
       "      <td>0.0</td>\n",
       "      <td>7.2</td>\n",
       "      <td>4.9</td>\n",
       "      <td>23.075</td>\n",
       "      <td>44.333333</td>\n",
       "      <td>69.5</td>\n",
       "      <td>1015.65</td>\n",
       "      <td>1</td>\n",
       "    </tr>\n",
       "    <tr>\n",
       "      <th>2</th>\n",
       "      <td>0.0</td>\n",
       "      <td>0.6</td>\n",
       "      <td>1.5</td>\n",
       "      <td>10.175</td>\n",
       "      <td>16.666667</td>\n",
       "      <td>87.0</td>\n",
       "      <td>1026.45</td>\n",
       "      <td>0</td>\n",
       "    </tr>\n",
       "    <tr>\n",
       "      <th>3</th>\n",
       "      <td>0.8</td>\n",
       "      <td>2.4</td>\n",
       "      <td>0.5</td>\n",
       "      <td>19.000</td>\n",
       "      <td>42.666667</td>\n",
       "      <td>89.0</td>\n",
       "      <td>1010.05</td>\n",
       "      <td>1</td>\n",
       "    </tr>\n",
       "    <tr>\n",
       "      <th>4</th>\n",
       "      <td>40.4</td>\n",
       "      <td>3.0</td>\n",
       "      <td>3.6</td>\n",
       "      <td>18.725</td>\n",
       "      <td>35.333333</td>\n",
       "      <td>81.5</td>\n",
       "      <td>1005.60</td>\n",
       "      <td>0</td>\n",
       "    </tr>\n",
       "    <tr>\n",
       "      <th>...</th>\n",
       "      <td>...</td>\n",
       "      <td>...</td>\n",
       "      <td>...</td>\n",
       "      <td>...</td>\n",
       "      <td>...</td>\n",
       "      <td>...</td>\n",
       "      <td>...</td>\n",
       "      <td>...</td>\n",
       "    </tr>\n",
       "    <tr>\n",
       "      <th>1495</th>\n",
       "      <td>0.0</td>\n",
       "      <td>9.2</td>\n",
       "      <td>7.9</td>\n",
       "      <td>22.900</td>\n",
       "      <td>23.333333</td>\n",
       "      <td>59.0</td>\n",
       "      <td>1020.65</td>\n",
       "      <td>0</td>\n",
       "    </tr>\n",
       "    <tr>\n",
       "      <th>1496</th>\n",
       "      <td>15.6</td>\n",
       "      <td>6.0</td>\n",
       "      <td>8.2</td>\n",
       "      <td>29.875</td>\n",
       "      <td>23.333333</td>\n",
       "      <td>69.5</td>\n",
       "      <td>1007.00</td>\n",
       "      <td>0</td>\n",
       "    </tr>\n",
       "    <tr>\n",
       "      <th>1497</th>\n",
       "      <td>0.0</td>\n",
       "      <td>3.0</td>\n",
       "      <td>9.5</td>\n",
       "      <td>17.925</td>\n",
       "      <td>22.666667</td>\n",
       "      <td>50.5</td>\n",
       "      <td>1012.70</td>\n",
       "      <td>1</td>\n",
       "    </tr>\n",
       "    <tr>\n",
       "      <th>1498</th>\n",
       "      <td>0.0</td>\n",
       "      <td>7.2</td>\n",
       "      <td>10.1</td>\n",
       "      <td>22.100</td>\n",
       "      <td>21.000000</td>\n",
       "      <td>65.5</td>\n",
       "      <td>1015.10</td>\n",
       "      <td>0</td>\n",
       "    </tr>\n",
       "    <tr>\n",
       "      <th>1499</th>\n",
       "      <td>0.0</td>\n",
       "      <td>3.2</td>\n",
       "      <td>10.5</td>\n",
       "      <td>14.300</td>\n",
       "      <td>24.000000</td>\n",
       "      <td>73.0</td>\n",
       "      <td>1025.05</td>\n",
       "      <td>0</td>\n",
       "    </tr>\n",
       "  </tbody>\n",
       "</table>\n",
       "<p>1500 rows × 8 columns</p>\n",
       "</div>"
      ],
      "text/plain": [
       "      Rainfall  Evaporation  Sunshine    Temp  Wind_Speed  Humidity  Pressure  \\\n",
       "0          3.6          1.0       3.0  14.225   12.333333      82.0   1028.10   \n",
       "1          0.0          7.2       4.9  23.075   44.333333      69.5   1015.65   \n",
       "2          0.0          0.6       1.5  10.175   16.666667      87.0   1026.45   \n",
       "3          0.8          2.4       0.5  19.000   42.666667      89.0   1010.05   \n",
       "4         40.4          3.0       3.6  18.725   35.333333      81.5   1005.60   \n",
       "...        ...          ...       ...     ...         ...       ...       ...   \n",
       "1495       0.0          9.2       7.9  22.900   23.333333      59.0   1020.65   \n",
       "1496      15.6          6.0       8.2  29.875   23.333333      69.5   1007.00   \n",
       "1497       0.0          3.0       9.5  17.925   22.666667      50.5   1012.70   \n",
       "1498       0.0          7.2      10.1  22.100   21.000000      65.5   1015.10   \n",
       "1499       0.0          3.2      10.5  14.300   24.000000      73.0   1025.05   \n",
       "\n",
       "      RainTomorrow  \n",
       "0                0  \n",
       "1                1  \n",
       "2                0  \n",
       "3                1  \n",
       "4                0  \n",
       "...            ...  \n",
       "1495             0  \n",
       "1496             0  \n",
       "1497             1  \n",
       "1498             0  \n",
       "1499             0  \n",
       "\n",
       "[1500 rows x 8 columns]"
      ]
     },
     "execution_count": 35,
     "metadata": {},
     "output_type": "execute_result"
    }
   ],
   "source": [
    "df"
   ]
  },
  {
   "cell_type": "markdown",
   "metadata": {
    "id": "BvJGgAEDvyy6"
   },
   "source": [
    "<table align=\"left\">\n",
    "    <tr>\n",
    "        <td width=\"6%\">\n",
    "            <img src=\"question_icon.png\">\n",
    "        </td>\n",
    "        <td>\n",
    "            <div align=\"left\", style=\"font-size:120%\">\n",
    "                <font color=\"#21618C\">\n",
    "                    <b>3. Are there any outliers present in the data? If yes, remove such observations using the quartiles of the variables\n",
    "                    </b>\n",
    "                </font>\n",
    "            </div>\n",
    "        </td>\n",
    "    </tr>\n",
    "</table>"
   ]
  },
  {
   "cell_type": "code",
   "execution_count": 12,
   "metadata": {
    "id": "ClDxa4_Gvyy6",
    "scrolled": true
   },
   "outputs": [
    {
     "data": {
      "image/png": "[encoded data removed]",
      "text/plain": [
       "<Figure size 1000x1000 with 9 Axes>"
      ]
     },
     "metadata": {},
     "output_type": "display_data"
    },
    {
     "data": {
      "text/plain": [
       "<Figure size 640x480 with 0 Axes>"
      ]
     },
     "metadata": {},
     "output_type": "display_data"
    }
   ],
   "source": [
    "fig,ax = plt.subplots(3,3,figsize=(10,10))\n",
    "for col,ax in zip(df.columns,ax.flatten()):\n",
    "    sns.boxplot(x=df[col],ax=ax)\n",
    "    plt.xlabel(col)\n",
    "    \n",
    "plt.show()\n",
    "plt.tight_layout()"
   ]
  },
  {
   "cell_type": "code",
   "execution_count": 36,
   "metadata": {},
   "outputs": [],
   "source": [
    "X = df.drop('RainTomorrow',axis=1)\n",
    "\n",
    "q1 = X.quantile(0.25)\n",
    "q3 = X.quantile(0.75)\n",
    "\n",
    "iqr = q3 - q1\n",
    "\n",
    "ll = q1 - (1.5 * iqr)\n",
    "ul = q3 + (1.5 * iqr)\n",
    "\n",
    "\n",
    "X = X[~((X < ll) | (X > ul)).any(axis=1)]\n",
    "\n",
    "ind = list(X.index)\n",
    "\n",
    "y = df['RainTomorrow'].iloc[ind[:n]]\n",
    "\n",
    "df_out = pd.concat([X, y], axis=1)"
   ]
  },
  {
   "cell_type": "code",
   "execution_count": 38,
   "metadata": {
    "scrolled": true
   },
   "outputs": [],
   "source": [
    "df_out.reset_index(drop=True,inplace=True)"
   ]
  },
  {
   "cell_type": "code",
   "execution_count": 39,
   "metadata": {},
   "outputs": [
    {
     "data": {
      "text/plain": [
       "(1134, 8)"
      ]
     },
     "execution_count": 39,
     "metadata": {},
     "output_type": "execute_result"
    }
   ],
   "source": [
    "df_out.shape"
   ]
  },
  {
   "cell_type": "markdown",
   "metadata": {
    "id": "bkDcXPb8vyy7"
   },
   "source": [
    "<table align=\"left\">\n",
    "    <tr>\n",
    "        <td width=\"6%\">\n",
    "            <img src=\"question_icon.png\">\n",
    "        </td>\n",
    "        <td>\n",
    "            <div align=\"left\", style=\"font-size:120%\">\n",
    "                <font color=\"#21618C\">\n",
    "                    <b>4. Is scaling required for the KNN algorithm? If yes, scale the data such that the range of each variable will be between 0 and 1\n",
    "                    </b>\n",
    "                </font>\n",
    "            </div>\n",
    "        </td>\n",
    "    </tr>\n",
    "</table>"
   ]
  },
  {
   "cell_type": "markdown",
   "metadata": {
    "id": "V5uKf90avyy7"
   },
   "source": [
    "- Scaling is mandatory is KNN Classification as extreme observations contribute high in distance calculations."
   ]
  },
  {
   "cell_type": "code",
   "execution_count": 47,
   "metadata": {
    "scrolled": true
   },
   "outputs": [
    {
     "data": {
      "text/html": [
       "<div>\n",
       "<style scoped>\n",
       "    .dataframe tbody tr th:only-of-type {\n",
       "        vertical-align: middle;\n",
       "    }\n",
       "\n",
       "    .dataframe tbody tr th {\n",
       "        vertical-align: top;\n",
       "    }\n",
       "\n",
       "    .dataframe thead th {\n",
       "        text-align: right;\n",
       "    }\n",
       "</style>\n",
       "<table border=\"1\" class=\"dataframe\">\n",
       "  <thead>\n",
       "    <tr style=\"text-align: right;\">\n",
       "      <th></th>\n",
       "      <th>Rainfall</th>\n",
       "      <th>Evaporation</th>\n",
       "      <th>Sunshine</th>\n",
       "      <th>Temp</th>\n",
       "      <th>Wind_Speed</th>\n",
       "      <th>Humidity</th>\n",
       "      <th>Pressure</th>\n",
       "    </tr>\n",
       "  </thead>\n",
       "  <tbody>\n",
       "    <tr>\n",
       "      <th>count</th>\n",
       "      <td>1134.000000</td>\n",
       "      <td>1134.000000</td>\n",
       "      <td>1134.000000</td>\n",
       "      <td>1134.000000</td>\n",
       "      <td>1134.000000</td>\n",
       "      <td>1134.000000</td>\n",
       "      <td>1134.000000</td>\n",
       "    </tr>\n",
       "    <tr>\n",
       "      <th>mean</th>\n",
       "      <td>0.066767</td>\n",
       "      <td>0.377387</td>\n",
       "      <td>0.595692</td>\n",
       "      <td>0.475500</td>\n",
       "      <td>0.444116</td>\n",
       "      <td>0.498712</td>\n",
       "      <td>0.524233</td>\n",
       "    </tr>\n",
       "    <tr>\n",
       "      <th>std</th>\n",
       "      <td>0.178772</td>\n",
       "      <td>0.219273</td>\n",
       "      <td>0.252973</td>\n",
       "      <td>0.201732</td>\n",
       "      <td>0.184939</td>\n",
       "      <td>0.185925</td>\n",
       "      <td>0.181388</td>\n",
       "    </tr>\n",
       "    <tr>\n",
       "      <th>min</th>\n",
       "      <td>0.000000</td>\n",
       "      <td>0.000000</td>\n",
       "      <td>0.000000</td>\n",
       "      <td>0.000000</td>\n",
       "      <td>0.000000</td>\n",
       "      <td>0.000000</td>\n",
       "      <td>0.000000</td>\n",
       "    </tr>\n",
       "    <tr>\n",
       "      <th>25%</th>\n",
       "      <td>0.000000</td>\n",
       "      <td>0.200000</td>\n",
       "      <td>0.437500</td>\n",
       "      <td>0.314620</td>\n",
       "      <td>0.314050</td>\n",
       "      <td>0.376420</td>\n",
       "      <td>0.397101</td>\n",
       "    </tr>\n",
       "    <tr>\n",
       "      <th>50%</th>\n",
       "      <td>0.000000</td>\n",
       "      <td>0.357143</td>\n",
       "      <td>0.678571</td>\n",
       "      <td>0.474152</td>\n",
       "      <td>0.421488</td>\n",
       "      <td>0.517045</td>\n",
       "      <td>0.522464</td>\n",
       "    </tr>\n",
       "    <tr>\n",
       "      <th>75%</th>\n",
       "      <td>0.000000</td>\n",
       "      <td>0.514286</td>\n",
       "      <td>0.783929</td>\n",
       "      <td>0.641357</td>\n",
       "      <td>0.559917</td>\n",
       "      <td>0.625000</td>\n",
       "      <td>0.646377</td>\n",
       "    </tr>\n",
       "    <tr>\n",
       "      <th>max</th>\n",
       "      <td>1.000000</td>\n",
       "      <td>1.000000</td>\n",
       "      <td>1.000000</td>\n",
       "      <td>1.000000</td>\n",
       "      <td>1.000000</td>\n",
       "      <td>1.000000</td>\n",
       "      <td>1.000000</td>\n",
       "    </tr>\n",
       "  </tbody>\n",
       "</table>\n",
       "</div>"
      ],
      "text/plain": [
       "          Rainfall  Evaporation     Sunshine         Temp   Wind_Speed  \\\n",
       "count  1134.000000  1134.000000  1134.000000  1134.000000  1134.000000   \n",
       "mean      0.066767     0.377387     0.595692     0.475500     0.444116   \n",
       "std       0.178772     0.219273     0.252973     0.201732     0.184939   \n",
       "min       0.000000     0.000000     0.000000     0.000000     0.000000   \n",
       "25%       0.000000     0.200000     0.437500     0.314620     0.314050   \n",
       "50%       0.000000     0.357143     0.678571     0.474152     0.421488   \n",
       "75%       0.000000     0.514286     0.783929     0.641357     0.559917   \n",
       "max       1.000000     1.000000     1.000000     1.000000     1.000000   \n",
       "\n",
       "          Humidity     Pressure  \n",
       "count  1134.000000  1134.000000  \n",
       "mean      0.498712     0.524233  \n",
       "std       0.185925     0.181388  \n",
       "min       0.000000     0.000000  \n",
       "25%       0.376420     0.397101  \n",
       "50%       0.517045     0.522464  \n",
       "75%       0.625000     0.646377  \n",
       "max       1.000000     1.000000  "
      ]
     },
     "execution_count": 47,
     "metadata": {},
     "output_type": "execute_result"
    }
   ],
   "source": [
    "from sklearn.preprocessing import MinMaxScaler\n",
    "mm=MinMaxScaler()\n",
    "X = df_out.drop('RainTomorrow',axis=1)\n",
    "y = df_out['RainTomorrow']\n",
    "\n",
    "X = pd.DataFrame(mm.fit_transform(X),columns=X.columns)\n",
    "X.describe()"
   ]
  },
  {
   "cell_type": "markdown",
   "metadata": {},
   "source": [
    "- Now min and max values between 0 and 1."
   ]
  },
  {
   "cell_type": "markdown",
   "metadata": {
    "id": "P2iqOuZNvyy8"
   },
   "source": [
    "<table align=\"left\">\n",
    "    <tr>\n",
    "        <td width=\"6%\">\n",
    "            <img src=\"question_icon.png\">\n",
    "        </td>\n",
    "        <td>\n",
    "            <div align=\"left\", style=\"font-size:120%\">\n",
    "                <font color=\"#21618C\">\n",
    "                    <b>5. Build a 7-NN model on 70% of the data using the 'Chebyshev' distance and find its accuracy \n",
    "                    </b>\n",
    "                </font>\n",
    "            </div>\n",
    "        </td>\n",
    "    </tr>\n",
    "</table>"
   ]
  },
  {
   "cell_type": "code",
   "execution_count": 50,
   "metadata": {
    "id": "0wpCTBU8vyy-",
    "scrolled": true
   },
   "outputs": [
    {
     "name": "stdout",
     "output_type": "stream",
     "text": [
      "Accuracy of model with k_neighbors 7 is for train data: 0.8852459016393442\n",
      "Accuracy of model with k_neighbors 7 is for test data: 0.8768328445747801\n"
     ]
    }
   ],
   "source": [
    "X_train,X_test,y_train,y_test = train_test_split(X,y,test_size=0.3,random_state=100)\n",
    "\n",
    "kn = KNeighborsClassifier(n_neighbors=7,metric='chebyshev')\n",
    "kn_model5=kn.fit(X_train,y_train)\n",
    "y_train_pred = kn_model5.predict(X_train)\n",
    "y_test_pred = kn_model5.predict(X_test)\n",
    "print('Accuracy of model with k_neighbors 7 is for train data:', accuracy_score(y_train,y_train_pred))\n",
    "print('Accuracy of model with k_neighbors 7 is for test data:', accuracy_score(y_test,y_test_pred))"
   ]
  },
  {
   "cell_type": "markdown",
   "metadata": {
    "id": "U8rUStaivyy-"
   },
   "source": [
    "<table align=\"left\">\n",
    "    <tr>\n",
    "        <td width=\"6%\">\n",
    "            <img src=\"question_icon.png\">\n",
    "        </td>\n",
    "        <td>\n",
    "            <div align=\"left\", style=\"font-size:120%\">\n",
    "                <font color=\"#21618C\">\n",
    "                    <b>6. Find the best value of 'K' for the KNN model from the given list of values (use 5-fold cross validation)\n",
    "                    </b>\n",
    "                </font>\n",
    "            </div>\n",
    "        </td>\n",
    "    </tr>\n",
    "</table>"
   ]
  },
  {
   "cell_type": "markdown",
   "metadata": {
    "id": "jTTd_uQCvyy_"
   },
   "source": [
    "**Use the given list:**\n",
    "\n",
    "K = [3, 5, 7, 9, 11, 13]"
   ]
  },
  {
   "cell_type": "code",
   "execution_count": 54,
   "metadata": {
    "id": "RXkdm3sMvyy_"
   },
   "outputs": [
    {
     "data": {
      "image/png": "[encoded data removed]",
      "text/plain": [
       "<Figure size 640x480 with 1 Axes>"
      ]
     },
     "metadata": {},
     "output_type": "display_data"
    }
   ],
   "source": [
    "K = [3, 5, 7, 9, 11, 13]\n",
    "scores=[]\n",
    "for i in K:\n",
    "    kn=KNeighborsClassifier(n_neighbors=i,p=2)\n",
    "    score=cross_val_score(kn,X_train,y_train,cv=5)\n",
    "    score=score.mean()\n",
    "    scores.append(score)\n",
    "\n",
    "plt.plot(K, scores)\n",
    "\n",
    "plt.title('CV Scores', fontsize = 15)\n",
    "plt.xlabel('K', fontsize = 15)\n",
    "plt.ylabel('Score', fontsize = 15)\n",
    "\n",
    "plt.show()"
   ]
  },
  {
   "cell_type": "code",
   "execution_count": 55,
   "metadata": {},
   "outputs": [
    {
     "name": "stdout",
     "output_type": "stream",
     "text": [
      "Optimal value of k: 11\n"
     ]
    }
   ],
   "source": [
    "optimal_k = K[np.argmax(scores)]\n",
    "print(\"Optimal value of k:\", optimal_k)"
   ]
  },
  {
   "cell_type": "markdown",
   "metadata": {
    "id": "M_ef9MdQvyy_"
   },
   "source": [
    "<table align=\"left\">\n",
    "    <tr>\n",
    "        <td width=\"6%\">\n",
    "            <img src=\"question_icon.png\">\n",
    "        </td>\n",
    "        <td>\n",
    "            <div align=\"left\", style=\"font-size:120%\">\n",
    "                <font color=\"#21618C\">\n",
    "                    <b>7. Build a naive bayes model on 70% of the original data and plot the ROC curve along with the AUC score\n",
    "                    </b>\n",
    "                </font>\n",
    "            </div>\n",
    "        </td>\n",
    "    </tr>\n",
    "</table>"
   ]
  },
  {
   "cell_type": "code",
   "execution_count": 58,
   "metadata": {
    "id": "LyEag_YxvyzA"
   },
   "outputs": [],
   "source": [
    "X = df.drop('RainTomorrow',axis=1)\n",
    "y=df['RainTomorrow']\n",
    "from sklearn.preprocessing import StandardScaler\n",
    "ss=StandardScaler()\n",
    "X=pd.DataFrame(ss.fit_transform(X),columns=X.columns)\n",
    "\n",
    "Xtrain,Xtest,ytrain,ytest = train_test_split(X,y,random_state=100, train_size=0.70)\n",
    "\n",
    "gnb = GaussianNB()\n",
    "gnb_model=gnb.fit(Xtrain,ytrain)\n",
    "y_pred_tr7=gnb_model.predict(Xtrain)\n",
    "y_pred_te7=gnb_model.predict(Xtest)"
   ]
  },
  {
   "cell_type": "code",
   "execution_count": 62,
   "metadata": {},
   "outputs": [],
   "source": [
    "def plot_roc(model,X,y,label):\n",
    "    y_pred = model.predict_proba(X)[:,1]\n",
    "    auc_score = roc_auc_score(y,y_pred)\n",
    "    fpr,tpr,thresh = roc_curve(y,y_pred)\n",
    "    plt.plot(fpr,tpr,label=label+'(AUC Score = %0.4f)'%auc_score)\n",
    "    \n",
    "    plt.xlim([0.0,1.0])\n",
    "    plt.ylim([0.0,1.0])\n",
    "    \n",
    "    plt.plot([0,1],[0,1],'r--')\n",
    "    \n",
    "    plt.title('ROC Curve', fontsize=15)\n",
    "    plt.xlabel('False positive rate (1-specificity)', fontsize=15)\n",
    "    plt.ylabel('True positive rate (Sensitivity)', fontsize=15)\n",
    "    \n",
    "    plt.legend(loc = 'lower right')\n",
    "    \n",
    "    plt.grid(True)"
   ]
  },
  {
   "cell_type": "code",
   "execution_count": 63,
   "metadata": {},
   "outputs": [
    {
     "data": {
      "image/png": "[encoded data removed]",
      "text/plain": [
       "<Figure size 640x480 with 1 Axes>"
      ]
     },
     "metadata": {},
     "output_type": "display_data"
    }
   ],
   "source": [
    "plot_roc(gnb_model,Xtrain,ytrain,'GNB Model train')\n",
    "plot_roc(gnb_model,Xtest,ytest,'GNB Model test')"
   ]
  },
  {
   "cell_type": "markdown",
   "metadata": {
    "id": "GvlHGBQavyzA"
   },
   "source": [
    "<table align=\"left\">\n",
    "    <tr>\n",
    "        <td width=\"6%\">\n",
    "            <img src=\"question_icon.png\">\n",
    "        </td>\n",
    "        <td>\n",
    "            <div align=\"left\", style=\"font-size:120%\">\n",
    "                <font color=\"#21618C\">\n",
    "                    <b>8. Which distance metric among 'manhattan', 'euclidean' and 'chebyshev' is suitable for the given dataset? (consider K = 19)\n",
    "                    </b>\n",
    "                </font>\n",
    "            </div>\n",
    "        </td>\n",
    "    </tr>\n",
    "</table>"
   ]
  },
  {
   "cell_type": "code",
   "execution_count": 68,
   "metadata": {
    "id": "TXSom14pvyzA"
   },
   "outputs": [
    {
     "name": "stdout",
     "output_type": "stream",
     "text": [
      "Best parameters for classifier: {'metric': 'euclidean'} \n",
      "\n",
      "Best observed roc_auc score: 0.8062039549403334\n"
     ]
    }
   ],
   "source": [
    "from sklearn.model_selection import GridSearchCV\n",
    "tuning_param = ({'metric':['manhattan', 'euclidean', 'chebyshev']})\n",
    "\n",
    "knn_model = KNeighborsClassifier(n_neighbors=19)\n",
    "\n",
    "knn_grid = GridSearchCV(estimator=knn_model, param_grid=tuning_param, cv=3, scoring='roc_auc')\n",
    "knn_grid.fit(X_train,y_train)\n",
    "\n",
    "print('Best parameters for classifier:', knn_grid.best_params_,'\\n')\n",
    "print('Best observed roc_auc score:',knn_grid.best_score_)\n"
   ]
  },
  {
   "cell_type": "markdown",
   "metadata": {
    "id": "xn5sMshFvyzA"
   },
   "source": [
    "<table align=\"left\">\n",
    "    <tr>\n",
    "        <td width=\"6%\">\n",
    "            <img src=\"question_icon.png\">\n",
    "        </td>\n",
    "        <td>\n",
    "            <div align=\"left\", style=\"font-size:120%\">\n",
    "                <font color=\"#21618C\">\n",
    "                    <b>9. Find the euclidean distance between the first observation of the dataframe 'X_test_scaled' and its five neighboring points in the train set (use for loop)</b>\n",
    "                </font>\n",
    "            </div>\n",
    "        </td>\n",
    "    </tr>\n",
    "</table>"
   ]
  },
  {
   "cell_type": "code",
   "execution_count": 73,
   "metadata": {},
   "outputs": [
    {
     "data": {
      "text/html": [
       "<div>\n",
       "<style scoped>\n",
       "    .dataframe tbody tr th:only-of-type {\n",
       "        vertical-align: middle;\n",
       "    }\n",
       "\n",
       "    .dataframe tbody tr th {\n",
       "        vertical-align: top;\n",
       "    }\n",
       "\n",
       "    .dataframe thead th {\n",
       "        text-align: right;\n",
       "    }\n",
       "</style>\n",
       "<table border=\"1\" class=\"dataframe\">\n",
       "  <thead>\n",
       "    <tr style=\"text-align: right;\">\n",
       "      <th></th>\n",
       "      <th>Rainfall</th>\n",
       "      <th>Evaporation</th>\n",
       "      <th>Sunshine</th>\n",
       "      <th>Temp</th>\n",
       "      <th>Wind_Speed</th>\n",
       "      <th>Humidity</th>\n",
       "      <th>Pressure</th>\n",
       "    </tr>\n",
       "  </thead>\n",
       "  <tbody>\n",
       "    <tr>\n",
       "      <th>1090</th>\n",
       "      <td>0.0</td>\n",
       "      <td>0.542857</td>\n",
       "      <td>0.792857</td>\n",
       "      <td>0.290792</td>\n",
       "      <td>0.68595</td>\n",
       "      <td>0.244318</td>\n",
       "      <td>0.613043</td>\n",
       "    </tr>\n",
       "  </tbody>\n",
       "</table>\n",
       "</div>"
      ],
      "text/plain": [
       "      Rainfall  Evaporation  Sunshine      Temp  Wind_Speed  Humidity  \\\n",
       "1090       0.0     0.542857  0.792857  0.290792     0.68595  0.244318   \n",
       "\n",
       "      Pressure  \n",
       "1090  0.613043  "
      ]
     },
     "execution_count": 73,
     "metadata": {},
     "output_type": "execute_result"
    }
   ],
   "source": [
    "X_test.iloc[[0]]"
   ]
  },
  {
   "cell_type": "code",
   "execution_count": 72,
   "metadata": {
    "id": "3FuhZXOjvyzB"
   },
   "outputs": [
    {
     "name": "stdout",
     "output_type": "stream",
     "text": [
      "Euclidean distances to five nearest neighbors in the training set:\n",
      "Neighbor 1: Index 174, Distance: 0.2095\n",
      "Neighbor 2: Index 170, Distance: 0.2314\n",
      "Neighbor 3: Index 603, Distance: 0.2393\n",
      "Neighbor 4: Index 294, Distance: 0.2463\n",
      "Neighbor 5: Index 5, Distance: 0.2735\n"
     ]
    }
   ],
   "source": [
    "from sklearn.metrics.pairwise import euclidean_distances\n",
    "\n",
    "# Assuming X_train_scaled and X_test_scaled are already defined\n",
    "\n",
    "# Select the first observation from the scaled test set\n",
    "test_observation = X_test.iloc[[0]]\n",
    "\n",
    "# Find the Euclidean distances between the selected observation and all points in the scaled training set\n",
    "distances = euclidean_distances(test_observation, X_train)\n",
    "\n",
    "# Get the indices of the five nearest neighbors\n",
    "nearest_neighbors_indices = distances.argsort()[0][:5]\n",
    "\n",
    "# Print the Euclidean distances and indices of the five nearest neighbors\n",
    "print(f\"Euclidean distances to five nearest neighbors in the training set:\")\n",
    "for i, index in enumerate(nearest_neighbors_indices, 1):\n",
    "    distance = distances[0, index]\n",
    "    print(f\"Neighbor {i}: Index {index}, Distance: {distance:.4f}\")"
   ]
  },
  {
   "cell_type": "code",
   "execution_count": 77,
   "metadata": {},
   "outputs": [
    {
     "data": {
      "text/plain": [
       "array([174, 170, 603, 294,   5], dtype=int64)"
      ]
     },
     "execution_count": 77,
     "metadata": {},
     "output_type": "execute_result"
    }
   ],
   "source": [
    "distances.argsort()[0][:5]"
   ]
  },
  {
   "cell_type": "markdown",
   "metadata": {
    "id": "O4obNIgKvyzB"
   },
   "source": [
    "<table align=\"left\">\n",
    "    <tr>\n",
    "        <td width=\"6%\">\n",
    "            <img src=\"question_icon.png\">\n",
    "        </td>\n",
    "        <td>\n",
    "            <div align=\"left\", style=\"font-size:120%\">\n",
    "                <font color=\"#21618C\">\n",
    "                    <b>10. Use the parameters obtained in Q8 to build the KNN model, and find the number of false predictions using the test set\n",
    "                    </b>\n",
    "                </font>\n",
    "            </div>\n",
    "        </td>\n",
    "    </tr>\n",
    "</table>"
   ]
  },
  {
   "cell_type": "code",
   "execution_count": 70,
   "metadata": {
    "id": "NBRiBYwMvyzB"
   },
   "outputs": [
    {
     "name": "stdout",
     "output_type": "stream",
     "text": [
      "[[291   4]\n",
      " [ 40   6]]\n",
      "False positive predictions are: 4\n",
      "False negative predictions are: 40\n"
     ]
    }
   ],
   "source": [
    "kn=KNeighborsClassifier(n_neighbors=19,metric='euclidean')\n",
    "kn.fit(X_train,y_train)\n",
    "y_pred10 = kn.predict(X_test)\n",
    "cm = confusion_matrix(y_test,y_pred10)\n",
    "print(cm)\n",
    "print('False positive predictions are:',cm[0][1])\n",
    "print('False negative predictions are:',cm[1][0])"
   ]
  }
 ],
 "metadata": {
  "colab": {
   "collapsed_sections": [],
   "name": "SLC - Take home (Day 3) - Questions [v3.0 - 231020].ipynb",
   "provenance": []
  },
  "kernelspec": {
   "display_name": "Python 3 (ipykernel)",
   "language": "python",
   "name": "python3"
  },
  "language_info": {
   "codemirror_mode": {
    "name": "ipython",
    "version": 3
   },
   "file_extension": ".py",
   "mimetype": "text/x-python",
   "name": "python",
   "nbconvert_exporter": "python",
   "pygments_lexer": "ipython3",
   "version": "3.11.4"
  }
 },
 "nbformat": 4,
 "nbformat_minor": 1
}
